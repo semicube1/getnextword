{
 "cells": [
  {
   "cell_type": "markdown",
   "metadata": {},
   "source": [
    "# Data Science - Micro Project\n",
    "**Course**: CS1U31G (_Applied Data Science with Python_)\n",
    "\n",
    "**Submitted By**: Abhinav Prakash (B21CS1203)\n",
    "\n",
    "**Topic**: Using a deep learning based sequence model to predict the next likely words given an incomplete sentence as the input.\n",
    "\n",
    "## Overview\n",
    "\n",
    "* ### [1. Load the Data](#load-the-data)\n",
    "* ### [2. Overview of the Data](#data-cleaning)\n",
    "* ### [3. Exploratory Data Analysis](#exploratory-data-analysis)\n",
    "* ### [4. Data Preparation](#data-preparation)\n",
    "* ### [5. Model Building](#model-building)\n",
    "* ### [6. Improve Model](#improve-model)"
   ]
  },
  {
   "cell_type": "markdown",
   "metadata": {},
   "source": [
    "# 1. Load the Data <a class=\"anchor\" id=\"load-the-data\"></a>\n",
    "\n",
    "We use the popular drama/indie screenplay: *Good Will Hunting* as our training corpus. This corpus comprises of 3293 unique words in total."
   ]
  },
  {
   "cell_type": "code",
   "execution_count": 3,
   "metadata": {
    "colab": {},
    "colab_type": "code",
    "id": "cIBfSFOs5dft"
   },
   "outputs": [],
   "source": [
    "import tensorflow as tf\n",
    "from tensorflow.keras.preprocessing.sequence import pad_sequences\n",
    "from tensorflow.keras.layers import Embedding, LSTM, Dense, Bidirectional, Flatten\n",
    "from tensorflow.keras.preprocessing.text import Tokenizer\n",
    "from tensorflow.keras.models import Sequential\n",
    "\n",
    "import numpy as np "
   ]
  },
  {
   "cell_type": "code",
   "execution_count": 4,
   "metadata": {
    "colab": {},
    "colab_type": "code",
    "id": "nbXB5xdMQUqp"
   },
   "outputs": [],
   "source": [
    "file = open(\"./corpus/Goodwill.txt\").read()"
   ]
  },
  {
   "cell_type": "markdown",
   "metadata": {},
   "source": [
    "# 2. Overview of the Data <a class=\"anchor\" id=\"overview-of-the-data\"></a>"
   ]
  },
  {
   "cell_type": "markdown",
   "metadata": {},
   "source": [
    "## 2.1 Descriptive Statistics"
   ]
  },
  {
   "cell_type": "code",
   "execution_count": 5,
   "metadata": {
    "colab": {},
    "colab_type": "code",
    "id": "KWFqIoL38c9M"
   },
   "outputs": [],
   "source": [
    "data = file.lower().split(\"\\n\")"
   ]
  },
  {
   "cell_type": "code",
   "execution_count": 6,
   "metadata": {
    "colab": {
     "base_uri": "https://localhost:8080/",
     "height": 1000
    },
    "colab_type": "code",
    "id": "4CmX4_qrAxXz",
    "outputId": "7c5b36b7-2022-4ac2-d511-d4d5e1ab78fd"
   },
   "outputs": [
    {
     "data": {
      "text/plain": [
       "['   good will hunting',\n",
       " '           by',\n",
       " 'matt damon & ben affleck',\n",
       " '',\n",
       " 'fade in:',\n",
       " \"ext. south boston st. patrick's day parade -- day cut to:\",\n",
       " 'int. l street bar & grille, south boston -- evening',\n",
       " \"the bar is dirty, more than a little run down. if there is ever a cook on duty, he's not here now. as we pan across several empty tables, we can almost smell the odor of last nights beer and crushed pretzels on the floor.\",\n",
       " '                               chuckie',\n",
       " '            oh my god, i got the most fucked up',\n",
       " \"thing i been meanin' to tell you.\",\n",
       " 'as the camera rises, we find four young men seated around a table near the back of the bar.',\n",
       " 'all oh jesus. here we go.',\n",
       " \"the guy holding court is chuckie sullivan, 20, and the largest of the bunch. he is loud, boisterous, a born entertainer. next to him is will hunting, 20, handsome and confident, a soft- spoken leader. on will's right sits billy mcbride, 22, heavy, quiet, someone you definitely wouldn't want to tangle with. finally there is morgan o'mally, 19, smaller than the other\",\n",
       " \"guys. wiry and anxious, morgan listens to chuckie's stories with eager disgust.\",\n",
       " 'all four boys speak with thick boston accents. this working class irish neighborhood and these boys are',\n",
       " '                               chuckie',\n",
       " '            you guys know my cousin mikey sullivan?',\n",
       " 'all',\n",
       " 'yeah.']"
      ]
     },
     "execution_count": 6,
     "metadata": {},
     "output_type": "execute_result"
    }
   ],
   "source": [
    "data[:20]"
   ]
  },
  {
   "cell_type": "code",
   "execution_count": 7,
   "metadata": {},
   "outputs": [
    {
     "name": "stdout",
     "output_type": "stream",
     "text": [
      "No of lines: 3637\n"
     ]
    }
   ],
   "source": [
    "print(f\"No of lines: {len(data)}\");"
   ]
  },
  {
   "cell_type": "markdown",
   "metadata": {},
   "source": [
    "# 3. Exploratory Data Analysis <a class=\"anchor\" id=\"exploratory-data-analysis\"></a>"
   ]
  },
  {
   "cell_type": "code",
   "execution_count": 8,
   "metadata": {},
   "outputs": [],
   "source": [
    "import re\n",
    "from collections import Counter\n",
    "import matplotlib.pyplot as plt"
   ]
  },
  {
   "cell_type": "code",
   "execution_count": 9,
   "metadata": {},
   "outputs": [],
   "source": [
    "def plot_histogram(words_freq):\n",
    "    words, freq = zip(*words_freq)\n",
    "    plt.figure(figsize=(10, 6))\n",
    "    plt.bar(words, freq)\n",
    "    plt.xlabel('Words')\n",
    "    plt.ylabel('Frequency')\n",
    "    plt.title('Word Frequency Histogram')\n",
    "    plt.xticks(rotation=45, ha='right')\n",
    "    plt.tight_layout()\n",
    "    plt.show()"
   ]
  },
  {
   "cell_type": "code",
   "execution_count": 23,
   "metadata": {},
   "outputs": [
    {
     "name": "stdout",
     "output_type": "stream",
     "text": [
      "[('the', 856), ('will', 765), ('you', 763), ('i', 684), ('a', 625), ('to', 619), ('and', 489), ('s', 488), ('sean', 367), ('t', 296), ('that', 295), ('it', 283), ('lambeau', 279), ('of', 276), ('is', 273), ('in', 267), ('chuckie', 235), ('he', 234), ('skylar', 175), ('d', 168)]\n"
     ]
    },
    {
     "data": {
      "image/png": "[encoded data removed]",
      "text/plain": [
       "<Figure size 1000x600 with 1 Axes>"
      ]
     },
     "metadata": {},
     "output_type": "display_data"
    }
   ],
   "source": [
    "words = []\n",
    "for line in data:\n",
    "  words.extend(re.findall(r'\\b\\w+\\b', line.lower()))\n",
    "\n",
    "word_freq = Counter(words)\n",
    "sorted_word_freq = sorted(word_freq.items(), key=lambda x: x[1], reverse=True)\n",
    "print(f\"{sorted_word_freq[:20]}\")\n",
    "plot_histogram(sorted_word_freq[:20])"
   ]
  },
  {
   "cell_type": "markdown",
   "metadata": {},
   "source": [
    "# 4. Data Preparation <a class=\"anchor\" id=\"data-preparation\"></a>"
   ]
  },
  {
   "cell_type": "markdown",
   "metadata": {},
   "source": [
    "## 4.1 Data Cleaning"
   ]
  },
  {
   "cell_type": "markdown",
   "metadata": {},
   "source": [
    "### 4.1.1 Removing Whitespace from the data:"
   ]
  },
  {
   "cell_type": "code",
   "execution_count": 11,
   "metadata": {
    "colab": {},
    "colab_type": "code",
    "id": "43bGa4FxtGMh"
   },
   "outputs": [],
   "source": [
    "corpus = []\n",
    "for line in data:\n",
    "    a = line.strip()\n",
    "    corpus.append(a)"
   ]
  },
  {
   "cell_type": "code",
   "execution_count": 12,
   "metadata": {
    "colab": {
     "base_uri": "https://localhost:8080/",
     "height": 1000
    },
    "colab_type": "code",
    "id": "r8hHTCTrtqrs",
    "outputId": "88253b6b-b97c-4834-87a8-4e8a59538c6a"
   },
   "outputs": [
    {
     "data": {
      "text/plain": [
       "['good will hunting',\n",
       " 'by',\n",
       " 'matt damon & ben affleck',\n",
       " '',\n",
       " 'fade in:',\n",
       " \"ext. south boston st. patrick's day parade -- day cut to:\",\n",
       " 'int. l street bar & grille, south boston -- evening',\n",
       " \"the bar is dirty, more than a little run down. if there is ever a cook on duty, he's not here now. as we pan across several empty tables, we can almost smell the odor of last nights beer and crushed pretzels on the floor.\",\n",
       " 'chuckie',\n",
       " 'oh my god, i got the most fucked up',\n",
       " \"thing i been meanin' to tell you.\",\n",
       " 'as the camera rises, we find four young men seated around a table near the back of the bar.',\n",
       " 'all oh jesus. here we go.',\n",
       " \"the guy holding court is chuckie sullivan, 20, and the largest of the bunch. he is loud, boisterous, a born entertainer. next to him is will hunting, 20, handsome and confident, a soft- spoken leader. on will's right sits billy mcbride, 22, heavy, quiet, someone you definitely wouldn't want to tangle with. finally there is morgan o'mally, 19, smaller than the other\",\n",
       " \"guys. wiry and anxious, morgan listens to chuckie's stories with eager disgust.\",\n",
       " 'all four boys speak with thick boston accents. this working class irish neighborhood and these boys are',\n",
       " 'chuckie',\n",
       " 'you guys know my cousin mikey sullivan?',\n",
       " 'all',\n",
       " 'yeah.']"
      ]
     },
     "execution_count": 12,
     "metadata": {},
     "output_type": "execute_result"
    }
   ],
   "source": [
    "corpus[0:20]"
   ]
  },
  {
   "cell_type": "markdown",
   "metadata": {},
   "source": [
    "### 4.1.2 Tokenizing"
   ]
  },
  {
   "cell_type": "code",
   "execution_count": 13,
   "metadata": {
    "colab": {},
    "colab_type": "code",
    "id": "-6sHviXZ8ZMc"
   },
   "outputs": [],
   "source": [
    "tokenizer = Tokenizer()"
   ]
  },
  {
   "cell_type": "code",
   "execution_count": 24,
   "metadata": {
    "colab": {
     "base_uri": "https://localhost:8080/",
     "height": 71
    },
    "colab_type": "code",
    "id": "f3LTJT9X8l4z",
    "outputId": "bac92d19-312a-4943-f863-0a5d07843090"
   },
   "outputs": [
    {
     "name": "stdout",
     "output_type": "stream",
     "text": [
      "[('the', 1), ('will', 2), ('you', 3), ('a', 4), ('to', 5), ('i', 6), ('and', 7), ('sean', 8), ('of', 9), ('is', 10), ('lambeau', 11), ('in', 12), ('that', 13), ('chuckie', 14), ('he', 15), ('it', 16), ('skylar', 17), ('me', 18), ('with', 19), ('on', 20)]\n",
      "3293\n"
     ]
    }
   ],
   "source": [
    "tokenizer.fit_on_texts(corpus)\n",
    "total_words = len(tokenizer.word_index) + 1\n",
    "\n",
    "print(list(tokenizer.word_index.items())[:20])\n",
    "print(total_words)"
   ]
  },
  {
   "cell_type": "markdown",
   "metadata": {},
   "source": [
    "### 4.1.2 Creating Predictors and Labels"
   ]
  },
  {
   "cell_type": "code",
   "execution_count": 32,
   "metadata": {
    "colab": {},
    "colab_type": "code",
    "id": "JUs1W__K8m_p"
   },
   "outputs": [],
   "source": [
    "input_sequences = []\n",
    "for line in corpus:\n",
    "\ttoken_list = tokenizer.texts_to_sequences([line])[0]\n",
    "\tfor i in range(1, len(token_list)):\n",
    "\t\tn_gram_sequence = token_list[:i+1]\n",
    "\t\tinput_sequences.append(n_gram_sequence)\n",
    "\n",
    "# Padding the sequences\n",
    "max_sequence_len = max([len(x) for x in input_sequences])\n",
    "input_sequences = np.array(pad_sequences(input_sequences, maxlen=max_sequence_len, padding='pre'))\n",
    "\n",
    "# Creating predictors and label\n",
    "xs, labels = input_sequences[:,:-1],input_sequences[:,-1]\n",
    "ys = tf.keras.utils.to_categorical(labels, num_classes=total_words)"
   ]
  },
  {
   "cell_type": "markdown",
   "metadata": {},
   "source": [
    "# 5. Model Building <a class=\"anchor\" id=\"model-building\"></a>"
   ]
  },
  {
   "cell_type": "code",
   "execution_count": 33,
   "metadata": {
    "colab": {},
    "colab_type": "code",
    "id": "3l_5ID8B841w"
   },
   "outputs": [],
   "source": [
    "model = Sequential([Embedding(total_words, 100, input_length = max_sequence_len-1),\n",
    "                    Bidirectional(LSTM(150)),\n",
    "                    Dense(total_words, activation = 'softmax')])\n",
    "\n",
    "model.compile(loss='categorical_crossentropy', optimizer='adam', metrics=['accuracy'])"
   ]
  },
  {
   "cell_type": "markdown",
   "metadata": {},
   "source": [
    "## 5.1 Model Training "
   ]
  },
  {
   "cell_type": "code",
   "execution_count": null,
   "metadata": {
    "colab": {
     "base_uri": "https://localhost:8080/",
     "height": 1000
    },
    "colab_type": "code",
    "id": "ttwyfIVdR1yV",
    "outputId": "014f530b-abec-470b-c48c-a733bd8b0746"
   },
   "outputs": [],
   "source": [
    "history = model.fit(xs, ys, epochs=30, verbose=1)"
   ]
  },
  {
   "cell_type": "markdown",
   "metadata": {},
   "source": [
    "## 5.2 Model Prediction\n",
    "\n",
    "Creating a function to predict the next word given a seed sentence."
   ]
  },
  {
   "cell_type": "code",
   "execution_count": 33,
   "metadata": {
    "colab": {},
    "colab_type": "code",
    "id": "Y6bfoQ6KG9Ls"
   },
   "outputs": [],
   "source": [
    "def next_word(seed):\n",
    "  seed_text = seed\n",
    "  next_words = 1\n",
    "  for _ in range(next_words):\n",
    "    token_list = tokenizer.texts_to_sequences([seed_text])[0]\n",
    "    token_list = pad_sequences([token_list], maxlen=max_sequence_len-1, padding='pre')\n",
    "    predicted = model.predict_classes(token_list, verbose=0)\n",
    "    output_word = \"\"\n",
    "    for word, index in tokenizer.word_index.items():\n",
    "      if index == predicted:\n",
    "        output_word = word\n",
    "        break\n",
    "    seed_text += \" \" + output_word\n",
    "  print(seed_text)"
   ]
  },
  {
   "cell_type": "code",
   "execution_count": 28,
   "metadata": {
    "colab": {
     "base_uri": "https://localhost:8080/",
     "height": 34
    },
    "colab_type": "code",
    "id": "l-efvI9dITrF",
    "outputId": "8b589ba7-1463-4d21-f507-f5f4fa911143"
   },
   "outputs": [
    {
     "name": "stdout",
     "output_type": "stream",
     "text": [
      "Lets go out\n"
     ]
    }
   ],
   "source": [
    "next_word('Lets go')"
   ]
  },
  {
   "cell_type": "code",
   "execution_count": 30,
   "metadata": {
    "colab": {
     "base_uri": "https://localhost:8080/",
     "height": 34
    },
    "colab_type": "code",
    "id": "S4FDwha5IiS4",
    "outputId": "6c8ecc2b-b65c-4337-895b-a0013888fef8"
   },
   "outputs": [
    {
     "name": "stdout",
     "output_type": "stream",
     "text": [
      "I want to meet your\n"
     ]
    }
   ],
   "source": [
    "next_word('I want to meet')"
   ]
  },
  {
   "cell_type": "code",
   "execution_count": 34,
   "metadata": {
    "colab": {
     "base_uri": "https://localhost:8080/",
     "height": 34
    },
    "colab_type": "code",
    "id": "xZO_3gyDIqqT",
    "outputId": "a5f519c6-4a3b-4d3b-ec28-edc7eb60608d"
   },
   "outputs": [
    {
     "name": "stdout",
     "output_type": "stream",
     "text": [
      "Congratulations thank you\n"
     ]
    }
   ],
   "source": [
    "next_word('Congratulations')"
   ]
  },
  {
   "cell_type": "code",
   "execution_count": 35,
   "metadata": {
    "colab": {
     "base_uri": "https://localhost:8080/",
     "height": 34
    },
    "colab_type": "code",
    "id": "sjWFbiWCIynw",
    "outputId": "cb971b6b-312d-46ae-d982-b3d303d2519b"
   },
   "outputs": [
    {
     "name": "stdout",
     "output_type": "stream",
     "text": [
      "Where are  you from\n"
     ]
    }
   ],
   "source": [
    "next_word('Where are ')"
   ]
  },
  {
   "cell_type": "markdown",
   "metadata": {},
   "source": [
    "## 5.3 Model Evaluation"
   ]
  },
  {
   "cell_type": "markdown",
   "metadata": {},
   "source": [
    "### 5.3.1 Plotting the training accuracy of the model"
   ]
  },
  {
   "cell_type": "code",
   "execution_count": 17,
   "metadata": {
    "colab": {
     "base_uri": "https://localhost:8080/",
     "height": 279
    },
    "colab_type": "code",
    "id": "g6nSgySJUrcf",
    "outputId": "2473935b-613d-48c4-eca4-d8b343dd615a"
   },
   "outputs": [
    {
     "data": {
      "image/png": "[encoded data removed]",
      "text/plain": [
       "<Figure size 432x288 with 1 Axes>"
      ]
     },
     "metadata": {
      "needs_background": "light",
      "tags": []
     },
     "output_type": "display_data"
    }
   ],
   "source": [
    "plt.plot(history.history['accuracy'])\n",
    "plt.xlabel(\"Number of Epochs\")\n",
    "plt.ylabel('Training accuracy per epochs')\n",
    "plt.show()"
   ]
  },
  {
   "cell_type": "code",
   "execution_count": 18,
   "metadata": {
    "colab": {
     "base_uri": "https://localhost:8080/",
     "height": 279
    },
    "colab_type": "code",
    "id": "r-2NBk6Mjd7A",
    "outputId": "2964ca8a-f164-43f0-8de3-a0d8ebb33630"
   },
   "outputs": [
    {
     "data": {
      "image/png": "[encoded data removed]",
      "text/plain": [
       "<Figure size 432x288 with 1 Axes>"
      ]
     },
     "metadata": {
      "needs_background": "light",
      "tags": []
     },
     "output_type": "display_data"
    }
   ],
   "source": [
    "plt.plot(history.history['loss'])\n",
    "plt.xlabel(\"Number of Epochs\")\n",
    "plt.ylabel('Training loss per epoch')\n",
    "plt.show()"
   ]
  },
  {
   "cell_type": "markdown",
   "metadata": {},
   "source": [
    "# 6. Improve Model <a class=\"anchor\" id=\"improve-model\"></a>"
   ]
  },
  {
   "cell_type": "markdown",
   "metadata": {},
   "source": [
    "## 6.1 Hyper-Parameter Tuning"
   ]
  },
  {
   "cell_type": "code",
   "execution_count": 47,
   "metadata": {},
   "outputs": [],
   "source": [
    "import keras_tuner as kt\n",
    "from keras.optimizers import Adam\n",
    "from keras.losses import SparseCategoricalCrossentropy"
   ]
  },
  {
   "cell_type": "code",
   "execution_count": 48,
   "metadata": {},
   "outputs": [],
   "source": [
    "def model_builder(hp):\n",
    "  model = Sequential()\n",
    "  model.add(Flatten(input_shape=(28, 28)))\n",
    "\n",
    "  # Tune the number of units in the first Dense layer\n",
    "  # Choose an optimal value between 32-512\n",
    "  hp_units = hp.Int('units', min_value=32, max_value=512, step=32)\n",
    "  model.add(Dense(units=hp_units, activation='relu'))\n",
    "  model.add(Dense(10))\n",
    "\n",
    "  # Tune the learning rate for the optimizer\n",
    "  # Choose an optimal value from 0.01, 0.001, or 0.0001\n",
    "  hp_learning_rate = hp.Choice('learning_rate', values=[1e-2, 1e-3, 1e-4])\n",
    "\n",
    "  model.compile(optimizer=Adam(learning_rate=hp_learning_rate),\n",
    "                loss=SparseCategoricalCrossentropy(from_logits=True),\n",
    "                metrics=['accuracy'])\n",
    "\n",
    "  return model"
   ]
  },
  {
   "cell_type": "code",
   "execution_count": null,
   "metadata": {},
   "outputs": [],
   "source": [
    "tuner = kt.Hyperband(model_builder,\n",
    "                     objective='val_accuracy',\n",
    "                     max_epochs=10,\n",
    "                     factor=3)"
   ]
  },
  {
   "cell_type": "code",
   "execution_count": null,
   "metadata": {},
   "outputs": [],
   "source": [
    "tuner.search(xs, ys, epochs=30, validation_split=0.2)"
   ]
  },
  {
   "cell_type": "code",
   "execution_count": null,
   "metadata": {},
   "outputs": [],
   "source": [
    "best_hps = tuner.get_best_hyperparameters(num_trials=1)[0]"
   ]
  },
  {
   "cell_type": "markdown",
   "metadata": {},
   "source": [
    "Now we create an updated model."
   ]
  },
  {
   "cell_type": "code",
   "execution_count": null,
   "metadata": {},
   "outputs": [],
   "source": [
    "model = tuner.hypermodel.build(best_hps)\n",
    "history = model.fit(xs, ys, epochs=30, validation_split=0.2)"
   ]
  },
  {
   "cell_type": "markdown",
   "metadata": {},
   "source": [
    "## 6.2 Save the final model"
   ]
  },
  {
   "cell_type": "code",
   "execution_count": null,
   "metadata": {},
   "outputs": [],
   "source": [
    "model.save(\"./model/next-word-model.h5\")"
   ]
  }
 ],
 "metadata": {
  "accelerator": "GPU",
  "colab": {
   "name": "Automatic Text Generator.ipynb",
   "provenance": []
  },
  "kernelspec": {
   "display_name": "Python 3",
   "language": "python",
   "name": "python3"
  },
  "language_info": {
   "codemirror_mode": {
    "name": "ipython",
    "version": 3
   },
   "file_extension": ".py",
   "mimetype": "text/x-python",
   "name": "python",
   "nbconvert_exporter": "python",
   "pygments_lexer": "ipython3",
   "version": "3.8.19"
  }
 },
 "nbformat": 4,
 "nbformat_minor": 1
}
